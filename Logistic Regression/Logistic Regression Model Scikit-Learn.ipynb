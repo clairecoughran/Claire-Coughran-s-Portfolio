{
 "cells": [
  {
   "cell_type": "code",
   "execution_count": 8,
   "id": "19f519fd-5758-41dd-9bd5-82695e593796",
   "metadata": {},
   "outputs": [],
   "source": [
    "import pandas as pd\n",
    "import numpy as np\n",
    "import matplotlib.pyplot as plt\n",
    "import seaborn as sns\n",
    "import sklearn\n",
    "from sklearn.linear_model import LogisticRegression"
   ]
  },
  {
   "cell_type": "markdown",
   "id": "080ddb37-25da-4379-b42a-62758006f9fc",
   "metadata": {},
   "source": [
    "## 2018-2019 Oregon Women's Basketball"
   ]
  },
  {
   "cell_type": "markdown",
   "id": "2315649e-d958-4961-a0be-b99ed1656b05",
   "metadata": {},
   "source": [
    "A women's collegiate basketball game is divided into four 10-minute quarters; if the game is tied at the end of 4 quarters, 5-minute overtime periods are played until one team is ahead at the end of an overtime period. The file `uo_women_basketball_18-19.csv` provides the raw statistics for the team's games during the 2018-19 season. `OrQ1` - `OrQ4` is the number of points Oregon scored and `OpQ1` - `OpQ4` is the number of points their opponent scored. `OrOT1` and `OpOT1` are Oregon and the opponents score for the overtime period respectively. I will add a `OrTotal`, `OpTotal` and `Result` columns for clarity. (`Result` is 1 for Oregon win and 0 for loss)"
   ]
  },
  {
   "cell_type": "code",
   "execution_count": 9,
   "id": "d3862fd5-2bb9-4d7b-a325-1b991b1be6a4",
   "metadata": {},
   "outputs": [
    {
     "data": {
      "text/html": [
       "<div>\n",
       "<style scoped>\n",
       "    .dataframe tbody tr th:only-of-type {\n",
       "        vertical-align: middle;\n",
       "    }\n",
       "\n",
       "    .dataframe tbody tr th {\n",
       "        vertical-align: top;\n",
       "    }\n",
       "\n",
       "    .dataframe thead th {\n",
       "        text-align: right;\n",
       "    }\n",
       "</style>\n",
       "<table border=\"1\" class=\"dataframe\">\n",
       "  <thead>\n",
       "    <tr style=\"text-align: right;\">\n",
       "      <th></th>\n",
       "      <th>Opponent</th>\n",
       "      <th>Location</th>\n",
       "      <th>Date</th>\n",
       "      <th>OrQ1</th>\n",
       "      <th>OrQ2</th>\n",
       "      <th>OrQ3</th>\n",
       "      <th>OrQ4</th>\n",
       "      <th>OpQ1</th>\n",
       "      <th>OpQ2</th>\n",
       "      <th>OpQ3</th>\n",
       "      <th>OpQ4</th>\n",
       "      <th>OrOT1</th>\n",
       "      <th>OpOT1</th>\n",
       "      <th>OrTotal</th>\n",
       "      <th>OpTotal</th>\n",
       "      <th>Result</th>\n",
       "    </tr>\n",
       "  </thead>\n",
       "  <tbody>\n",
       "    <tr>\n",
       "      <th>0</th>\n",
       "      <td>Alaska Fairbanks</td>\n",
       "      <td>AWAY</td>\n",
       "      <td>11/06/18</td>\n",
       "      <td>34</td>\n",
       "      <td>26</td>\n",
       "      <td>29</td>\n",
       "      <td>26</td>\n",
       "      <td>9</td>\n",
       "      <td>13</td>\n",
       "      <td>8</td>\n",
       "      <td>6</td>\n",
       "      <td>0</td>\n",
       "      <td>0</td>\n",
       "      <td>115</td>\n",
       "      <td>36</td>\n",
       "      <td>1</td>\n",
       "    </tr>\n",
       "    <tr>\n",
       "      <th>1</th>\n",
       "      <td>Syracuse</td>\n",
       "      <td>HOME</td>\n",
       "      <td>11/10/18</td>\n",
       "      <td>20</td>\n",
       "      <td>14</td>\n",
       "      <td>14</td>\n",
       "      <td>27</td>\n",
       "      <td>10</td>\n",
       "      <td>17</td>\n",
       "      <td>17</td>\n",
       "      <td>29</td>\n",
       "      <td>0</td>\n",
       "      <td>0</td>\n",
       "      <td>75</td>\n",
       "      <td>73</td>\n",
       "      <td>1</td>\n",
       "    </tr>\n",
       "    <tr>\n",
       "      <th>2</th>\n",
       "      <td>Utah State</td>\n",
       "      <td>AWAY</td>\n",
       "      <td>11/14/18</td>\n",
       "      <td>30</td>\n",
       "      <td>19</td>\n",
       "      <td>20</td>\n",
       "      <td>19</td>\n",
       "      <td>15</td>\n",
       "      <td>13</td>\n",
       "      <td>15</td>\n",
       "      <td>14</td>\n",
       "      <td>0</td>\n",
       "      <td>0</td>\n",
       "      <td>88</td>\n",
       "      <td>57</td>\n",
       "      <td>1</td>\n",
       "    </tr>\n",
       "    <tr>\n",
       "      <th>3</th>\n",
       "      <td>Buffalo</td>\n",
       "      <td>HOME</td>\n",
       "      <td>11/18/18</td>\n",
       "      <td>26</td>\n",
       "      <td>23</td>\n",
       "      <td>31</td>\n",
       "      <td>22</td>\n",
       "      <td>16</td>\n",
       "      <td>23</td>\n",
       "      <td>21</td>\n",
       "      <td>22</td>\n",
       "      <td>0</td>\n",
       "      <td>0</td>\n",
       "      <td>102</td>\n",
       "      <td>82</td>\n",
       "      <td>1</td>\n",
       "    </tr>\n",
       "    <tr>\n",
       "      <th>4</th>\n",
       "      <td>UC Riverside</td>\n",
       "      <td>HOME</td>\n",
       "      <td>11/23/18</td>\n",
       "      <td>23</td>\n",
       "      <td>29</td>\n",
       "      <td>25</td>\n",
       "      <td>17</td>\n",
       "      <td>11</td>\n",
       "      <td>7</td>\n",
       "      <td>13</td>\n",
       "      <td>13</td>\n",
       "      <td>0</td>\n",
       "      <td>0</td>\n",
       "      <td>94</td>\n",
       "      <td>44</td>\n",
       "      <td>1</td>\n",
       "    </tr>\n",
       "  </tbody>\n",
       "</table>\n",
       "</div>"
      ],
      "text/plain": [
       "           Opponent Location      Date  OrQ1  OrQ2  OrQ3  OrQ4  OpQ1  OpQ2  \\\n",
       "0  Alaska Fairbanks     AWAY  11/06/18    34    26    29    26     9    13   \n",
       "1          Syracuse     HOME  11/10/18    20    14    14    27    10    17   \n",
       "2        Utah State     AWAY  11/14/18    30    19    20    19    15    13   \n",
       "3           Buffalo     HOME  11/18/18    26    23    31    22    16    23   \n",
       "4      UC Riverside     HOME  11/23/18    23    29    25    17    11     7   \n",
       "\n",
       "   OpQ3  OpQ4  OrOT1  OpOT1  OrTotal  OpTotal  Result  \n",
       "0     8     6      0      0      115       36       1  \n",
       "1    17    29      0      0       75       73       1  \n",
       "2    15    14      0      0       88       57       1  \n",
       "3    21    22      0      0      102       82       1  \n",
       "4    13    13      0      0       94       44       1  "
      ]
     },
     "execution_count": 9,
     "metadata": {},
     "output_type": "execute_result"
    }
   ],
   "source": [
    "bbgames = pd.read_csv('uo_women_basketball_18-19.csv')\n",
    "\n",
    "bbgames['OrTotal'] = bbgames['OrQ1'] + bbgames['OrQ2'] + bbgames['OrQ3']  + bbgames['OrQ4'] + bbgames['OrOT1']\n",
    "bbgames['OpTotal'] = bbgames['OpQ1'] + bbgames['OpQ2'] + bbgames['OpQ3']  + bbgames['OpQ4'] + bbgames['OpOT1']\n",
    "bbgames['Result'] = (bbgames['OrTotal'] > bbgames['OpTotal']).replace(True, 1).replace(False, 0)\n",
    "bbgames.head()"
   ]
  },
  {
   "cell_type": "markdown",
   "id": "5bf5fbcd-6071-4b38-b8f4-ed07614c2d79",
   "metadata": {},
   "source": [
    "Oregon was most known for outscoring the opposition in the 1st quarter, and again in the 3rd quarter. The fractional scoring differential for each quarters will work well as an independent variables for a logistic regression on this data because the fraction varies from -1 to 1.\n",
    "\n",
    "$Q1~fraction = \\frac{Oregon~Q1~points~-~Opponent~Q1~points}{Oregon~Q1~points~+~Opponent~Q1~points}$"
   ]
  },
  {
   "cell_type": "code",
   "execution_count": 3,
   "id": "ab3e312f-9448-48b3-ad10-89b07537b247",
   "metadata": {},
   "outputs": [
    {
     "data": {
      "text/plain": [
       "Text(0, 0.5, 'Win or Loss')"
      ]
     },
     "execution_count": 3,
     "metadata": {},
     "output_type": "execute_result"
    },
    {
     "data": {
      "image/png": "[encoded data removed]",
      "text/plain": [
       "<Figure size 400x200 with 1 Axes>"
      ]
     },
     "metadata": {},
     "output_type": "display_data"
    }
   ],
   "source": [
    "bbgames['Q1fraction'] = (bbgames['OrQ1'] - bbgames['OpQ1']) / (bbgames['OrQ1'] + bbgames['OpQ1'])\n",
    "bbgames['Q2fraction'] = (bbgames['OrQ2'] - bbgames['OpQ2']) / (bbgames['OrQ2'] + bbgames['OpQ2'])\n",
    "bbgames['Q3fraction'] = (bbgames['OrQ3'] - bbgames['OpQ3']) / (bbgames['OrQ3'] + bbgames['OpQ3'])\n",
    "bbgames['Q4fraction'] = (bbgames['OrQ4'] - bbgames['OpQ4']) / (bbgames['OrQ4'] + bbgames['OpQ4'])\n",
    "\n",
    "plt.figure(figsize=(4,2))\n",
    "sns.scatterplot(data=bbgames, x='Q1fraction', y='Result')\n",
    "plt.title('Result vs Q1 Fractional') \n",
    "plt.xlabel('Q1 Fractional')\n",
    "plt.ylabel('Win or Loss')"
   ]
  },
  {
   "cell_type": "code",
   "execution_count": 4,
   "id": "f142dfce-7503-4681-b408-970b5972bdfb",
   "metadata": {},
   "outputs": [],
   "source": [
    "# run logistic regression on the fractional scoring differential\n",
    "model_q1f = LogisticRegression(C = 15000) # set C to 'turn off' regularization since dataset is small\n",
    "model_q2f = LogisticRegression(C = 15000) # C = 1/lambda so as C gets large regularization approaches 0\n",
    "model_q3f = LogisticRegression(C = 15000)\n",
    "model_q4f = LogisticRegression(C = 15000)\n",
    "\n",
    "y = np.array(bbgames['Result'])\n",
    "x1 = np.array(bbgames[['Q1fraction']])\n",
    "x2 = np.array(bbgames[['Q2fraction']])\n",
    "x3 = np.array(bbgames[['Q3fraction']])\n",
    "x4 = np.array(bbgames[['Q4fraction']])\n",
    "\n",
    "model_q1f.fit(x1, y)\n",
    "q1f_pred = model_q1f.predict(x1)\n",
    "\n",
    "model_q2f.fit(x2, y)\n",
    "q2f_pred = model_q2f.predict(x2)\n",
    "\n",
    "model_q3f.fit(x3, y)\n",
    "q3f_pred = model_q3f.predict(x3)\n",
    "\n",
    "model_q4f.fit(x4, y)\n",
    "q4f_pred = model_q4f.predict(x4)"
   ]
  },
  {
   "cell_type": "markdown",
   "id": "1835b6f5-e7ea-4586-a07f-d48e75044ce2",
   "metadata": {},
   "source": [
    "I calculate loss using cross-entropy: $R(\\theta) = -\\frac{1}{n}\\sum_{i = 1}^{n}(y_{i}\\log(\\hat{y})) + (1-y_{i})\\log(1-\\hat{y}))$"
   ]
  },
  {
   "cell_type": "code",
   "execution_count": 5,
   "id": "deb9e302-5e28-443d-92ba-82b1a56b30e1",
   "metadata": {},
   "outputs": [
    {
     "name": "stdout",
     "output_type": "stream",
     "text": [
      "The Cross-Entropy Loss of the Q1 Fractional Model is 2.726745504861369\n",
      "The Cross-Entropy Loss of the Q2 Fractional Model is 4.544575841435615\n",
      "The Cross-Entropy Loss of the Q3 Fractional Model is 4.544575841435615\n",
      "The Cross-Entropy Loss of the Q4 Fractional Model is 2.726745504861369\n"
     ]
    }
   ],
   "source": [
    "def cel(y_obs, y_hat):\n",
    "    # have to add 1e-15 to avoid 1og(0)\n",
    "    sum = (y_obs * np.log(y_hat + 1e-15)) + ((1 - y_obs) * np.log(1 - y_hat + 1e-15))\n",
    "    return - (np.sum(sum) / len(y_obs))\n",
    "\n",
    "print(\"The Cross-Entropy Loss of the Q1 Fractional Model is\", cel(y, q1f_pred))\n",
    "print(\"The Cross-Entropy Loss of the Q2 Fractional Model is\", cel(y, q2f_pred))\n",
    "print(\"The Cross-Entropy Loss of the Q3 Fractional Model is\", cel(y, q3f_pred))\n",
    "print(\"The Cross-Entropy Loss of the Q4 Fractional Model is\", cel(y, q4f_pred))"
   ]
  },
  {
   "cell_type": "code",
   "execution_count": 6,
   "id": "823a6fb0-80d0-48ab-a076-46b7f1bef9c6",
   "metadata": {},
   "outputs": [
    {
     "data": {
      "text/plain": [
       "Text(0.5, 0, 'Q4 Fractional')"
      ]
     },
     "execution_count": 6,
     "metadata": {},
     "output_type": "execute_result"
    },
    {
     "data": {
      "image/png": "[encoded data removed]",
      "text/plain": [
       "<Figure size 1300x400 with 2 Axes>"
      ]
     },
     "metadata": {},
     "output_type": "display_data"
    }
   ],
   "source": [
    "# model 1 and 4 are tied for lowest loss \n",
    "def sig(x):\n",
    "    return 1 / (1 + np.e**(-x))\n",
    "\n",
    "fig, axes = plt.subplots(1, 2, figsize=(13, 4), sharey=True)\n",
    "\n",
    "axes[0].plot(np.linspace(-1, 1, 100), sig(model_q1f.coef_ * np.linspace(-1, 1, 100) + model_q1f.intercept_)[0])\n",
    "axes[0].scatter(x1, y)\n",
    "axes[0].set_title('Model 1')\n",
    "axes[0].set_xlabel(\"Q1 Fractional\")\n",
    "axes[0].set_ylabel(\"Probability\")\n",
    "\n",
    "axes[1].plot(np.linspace(-1, 1, 100), sig(model_q4f.coef_ * np.linspace(-1, 1, 100) + model_q4f.intercept_)[0])\n",
    "axes[1].scatter(x4, y)\n",
    "axes[1].set_title('Model 4')\n",
    "axes[1].set_xlabel(\"Q4 Fractional\")"
   ]
  },
  {
   "cell_type": "code",
   "execution_count": 7,
   "id": "37ca41dc-53d7-413e-b0f9-912cc7fa04af",
   "metadata": {},
   "outputs": [
    {
     "name": "stdout",
     "output_type": "stream",
     "text": [
      "Accuracy: 0.9210526315789473\n",
      "Percision: 0.9166666666666666\n",
      "Recall: 0.9166666666666666\n"
     ]
    }
   ],
   "source": [
    "bbgames['Predicted Result'] = q1f_pred\n",
    "positives = bbgames[bbgames['Predicted Result'] == 1]\n",
    "negatives = bbgames[bbgames['Predicted Result'] == 0]\n",
    "tp = len(positives[positives['Result'] == 1])\n",
    "tn = len(negatives[negatives['Result'] == 0])\n",
    "fp = len(positives[positives['Result'] == 0])\n",
    "fn = len(negatives[negatives['Result'] == 1])\n",
    "\n",
    "print(\"Accuracy:\", (tp + tn) / (tp + fp + tn + fn))\n",
    "print(\"Percision:\", tp / (tp + fp))\n",
    "print(\"Recall:\", tp / (tp + fp))"
   ]
  },
  {
   "cell_type": "code",
   "execution_count": null,
   "id": "3b6d1100-da52-4d93-88d2-8c4d0737adda",
   "metadata": {},
   "outputs": [],
   "source": []
  }
 ],
 "metadata": {
  "kernelspec": {
   "display_name": "Python 3 (ipykernel)",
   "language": "python",
   "name": "python3"
  },
  "language_info": {
   "codemirror_mode": {
    "name": "ipython",
    "version": 3
   },
   "file_extension": ".py",
   "mimetype": "text/x-python",
   "name": "python",
   "nbconvert_exporter": "python",
   "pygments_lexer": "ipython3",
   "version": "3.11.7"
  }
 },
 "nbformat": 4,
 "nbformat_minor": 5
}
