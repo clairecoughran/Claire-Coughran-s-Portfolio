{
 "cells": [
  {
   "cell_type": "code",
   "execution_count": 5,
   "id": "ca237f76-55e6-4885-8924-e8e584632cde",
   "metadata": {},
   "outputs": [],
   "source": [
    "import numpy as np\n",
    "import pandas as pd \n",
    "import requests\n",
    "from bs4 import BeautifulSoup\n",
    "from selenium import webdriver\n",
    "import time"
   ]
  },
  {
   "cell_type": "code",
   "execution_count": 31,
   "id": "20369134-bbd3-4c1b-8324-6bc2509e33b5",
   "metadata": {},
   "outputs": [],
   "source": [
    "def scroll(url):\n",
    "    # For URLs with infinite scroll feature or permissions\n",
    "    driver = webdriver.Chrome()\n",
    "    driver.get(url)\n",
    "\n",
    "    screen_height = driver.execute_script(\"return window.screen.height;\")  # Browser window height\n",
    "    i = 1\n",
    "    while True:\n",
    "        # Scroll down\n",
    "        driver.execute_script(f\"window.scrollTo(0, {screen_height * i});\")\n",
    "        i += 1\n",
    "        time.sleep(1)\n",
    "    \n",
    "        # Check if reaching the end of the page\n",
    "        scroll_height = driver.execute_script(\"return document.body.scrollHeight;\")\n",
    "        if screen_height * i > scroll_height:\n",
    "            break\n",
    "    soup = BeautifulSoup(driver.page_source, \"html.parser\")\n",
    "    driver.quit()\n",
    "    return soup"
   ]
  },
  {
   "cell_type": "code",
   "execution_count": null,
   "id": "b553e159-6b10-4be7-aa4c-32b74c3eff1a",
   "metadata": {},
   "outputs": [],
   "source": [
    "def request(url):\n",
    "    # For URLs with no permissions\n",
    "    response = requests.get(url)\n",
    "    soup = BeautifulSoup(response.content, \"html.parser\")\n",
    "    return soup"
   ]
  },
  {
   "cell_type": "code",
   "execution_count": 85,
   "id": "19f78d3d-ceec-44a1-ab83-88018246fac8",
   "metadata": {},
   "outputs": [],
   "source": [
    "def mult_page(url, func, num):\n",
    "    # att should be the attribute = \"...\" ex. id = \"next\"\n",
    "    soups = [] # will return a list of HTML scripts\n",
    "    soup = func(url)\n",
    "    for i in range(num):\n",
    "        soups.append(soup)\n",
    "        next = soup.find(\"link\", rel=\"next\").get(\"href\") # adjust the tag and attributes for the rights ones\n",
    "        soup = func(str(next))\n",
    "    return soups "
   ]
  },
  {
   "cell_type": "code",
   "execution_count": 89,
   "id": "9785b45e-aead-4f2d-a930-1b236569afa9",
   "metadata": {},
   "outputs": [],
   "source": [
    "soups = mult_page('https://longmontcolorado.gov/events/list/', scroll, 2)"
   ]
  },
  {
   "cell_type": "code",
   "execution_count": null,
   "id": "020a4cb3-b5cb-4b79-93ca-3db3f9345e9c",
   "metadata": {},
   "outputs": [],
   "source": []
  }
 ],
 "metadata": {
  "kernelspec": {
   "display_name": "Python [conda env:base] *",
   "language": "python",
   "name": "conda-base-py"
  },
  "language_info": {
   "codemirror_mode": {
    "name": "ipython",
    "version": 3
   },
   "file_extension": ".py",
   "mimetype": "text/x-python",
   "name": "python",
   "nbconvert_exporter": "python",
   "pygments_lexer": "ipython3",
   "version": "3.11.5"
  }
 },
 "nbformat": 4,
 "nbformat_minor": 5
}
